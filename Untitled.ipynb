{
 "cells": [
  {
   "cell_type": "code",
   "execution_count": 1,
   "id": "c0195742-70f3-431a-83a4-41ea779e2b88",
   "metadata": {},
   "outputs": [
    {
     "name": "stdout",
     "output_type": "stream",
     "text": [
      "Requirement already satisfied: pandas in c:\\users\\usuario\\appdata\\local\\programs\\python\\python313\\lib\\site-packages (2.2.3)\n",
      "Requirement already satisfied: numpy>=1.26.0 in c:\\users\\usuario\\appdata\\local\\programs\\python\\python313\\lib\\site-packages (from pandas) (2.1.2)\n",
      "Requirement already satisfied: python-dateutil>=2.8.2 in c:\\users\\usuario\\appdata\\local\\programs\\python\\python313\\lib\\site-packages (from pandas) (2.9.0.post0)\n",
      "Requirement already satisfied: pytz>=2020.1 in c:\\users\\usuario\\appdata\\local\\programs\\python\\python313\\lib\\site-packages (from pandas) (2024.2)\n",
      "Requirement already satisfied: tzdata>=2022.7 in c:\\users\\usuario\\appdata\\local\\programs\\python\\python313\\lib\\site-packages (from pandas) (2024.2)\n",
      "Requirement already satisfied: six>=1.5 in c:\\users\\usuario\\appdata\\local\\programs\\python\\python313\\lib\\site-packages (from python-dateutil>=2.8.2->pandas) (1.16.0)\n",
      "Note: you may need to restart the kernel to use updated packages.\n"
     ]
    }
   ],
   "source": [
    "pip install pandas"
   ]
  },
  {
   "cell_type": "code",
   "execution_count": 2,
   "id": "d5f87bc0-3913-44d8-bbd2-efe4831a8feb",
   "metadata": {},
   "outputs": [],
   "source": [
    "import pandas as pd"
   ]
  },
  {
   "cell_type": "code",
   "execution_count": 4,
   "id": "df940630-2c39-4246-b8af-07661739846a",
   "metadata": {},
   "outputs": [
    {
     "name": "stdout",
     "output_type": "stream",
     "text": [
      "            Date                         Company Ticker Symbol Currency  \\\n",
      "0     2000-01-01  Sony Interactive Entertainment          SONY      JPY   \n",
      "1     2000-02-01  Sony Interactive Entertainment          SONY      JPY   \n",
      "2     2000-03-01  Sony Interactive Entertainment          SONY      JPY   \n",
      "3     2000-04-01  Sony Interactive Entertainment          SONY      JPY   \n",
      "4     2000-05-01  Sony Interactive Entertainment          SONY      JPY   \n",
      "...          ...                             ...           ...      ...   \n",
      "2204  2024-06-01                        Playtika          PLTK      USD   \n",
      "2205  2024-07-01                        Playtika          PLTK      USD   \n",
      "2206  2024-08-01                        Playtika          PLTK      USD   \n",
      "2207  2024-09-01                        Playtika          PLTK      USD   \n",
      "2208  2024-10-01                        Playtika          PLTK      USD   \n",
      "\n",
      "           Open       High        Low      Close  Adj Close     Volume  \n",
      "0     28.525000  29.168751  20.850000  25.299999  14.535083  147012000  \n",
      "1     25.293751  31.475000  25.000000  31.350000  18.010864   67437000  \n",
      "2     30.100000  31.299999  21.700001  28.012501  16.093437  112674000  \n",
      "3     28.250000  28.250000  22.312500  22.562500  12.974537   74071000  \n",
      "4     22.700001  23.481251  17.750000  18.237499  10.487453   65035500  \n",
      "...         ...        ...        ...        ...        ...        ...  \n",
      "2204   8.760000   9.070000   7.680000   7.870000   7.677933   19793700  \n",
      "2205   7.860000   8.100000   7.230000   7.630000   7.536838   15108300  \n",
      "2206   7.670000   8.055000   6.610000   7.570000   7.477571   18138900  \n",
      "2207   7.490000   8.355000   7.150000   7.920000   7.823297   18116900  \n",
      "2208   7.930000   8.060000   7.320000   7.830000   7.830000   11134800  \n",
      "\n",
      "[2209 rows x 10 columns]\n"
     ]
    }
   ],
   "source": [
    "df = pd.read_csv(\"Juegos.csv\")\n",
    "print(df)\n",
    "df.to_csv(\"Juegos.csv\")"
   ]
  },
  {
   "cell_type": "code",
   "execution_count": null,
   "id": "1f21a7aa-6250-4e00-8cd7-2f731a9c05ca",
   "metadata": {},
   "outputs": [],
   "source": []
  }
 ],
 "metadata": {
  "kernelspec": {
   "display_name": "Python 3 (ipykernel)",
   "language": "python",
   "name": "python3"
  },
  "language_info": {
   "codemirror_mode": {
    "name": "ipython",
    "version": 3
   },
   "file_extension": ".py",
   "mimetype": "text/x-python",
   "name": "python",
   "nbconvert_exporter": "python",
   "pygments_lexer": "ipython3",
   "version": "3.13.1"
  }
 },
 "nbformat": 4,
 "nbformat_minor": 5
}
