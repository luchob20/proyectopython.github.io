{
 "cells": [
  {
   "cell_type": "code",
   "execution_count": 1,
   "id": "1083ffdc-73e7-4914-907c-07cd2bf271b1",
   "metadata": {},
   "outputs": [],
   "source": [
    "import pandas as pd"
   ]
  },
  {
   "cell_type": "code",
   "execution_count": 7,
   "id": "a0a00e58-752e-42ec-96c1-b17caf0fabc7",
   "metadata": {},
   "outputs": [
    {
     "name": "stdout",
     "output_type": "stream",
     "text": [
      "      Unnamed: 0        Date                         Company Ticker Symbol  \\\n",
      "0              0  2000-01-01  Sony Interactive Entertainment          SONY   \n",
      "1              1  2000-02-01  Sony Interactive Entertainment          SONY   \n",
      "2              2  2000-03-01  Sony Interactive Entertainment          SONY   \n",
      "3              3  2000-04-01  Sony Interactive Entertainment          SONY   \n",
      "4              4  2000-05-01  Sony Interactive Entertainment          SONY   \n",
      "...          ...         ...                             ...           ...   \n",
      "2204        2204  2024-06-01                        Playtika          PLTK   \n",
      "2205        2205  2024-07-01                        Playtika          PLTK   \n",
      "2206        2206  2024-08-01                        Playtika          PLTK   \n",
      "2207        2207  2024-09-01                        Playtika          PLTK   \n",
      "2208        2208  2024-10-01                        Playtika          PLTK   \n",
      "\n",
      "     Currency       Open       High        Low      Close  Adj Close  \\\n",
      "0         JPY  28.525000  29.168751  20.850000  25.299999  14.535083   \n",
      "1         JPY  25.293751  31.475000  25.000000  31.350000  18.010864   \n",
      "2         JPY  30.100000  31.299999  21.700001  28.012501  16.093437   \n",
      "3         JPY  28.250000  28.250000  22.312500  22.562500  12.974537   \n",
      "4         JPY  22.700001  23.481251  17.750000  18.237499  10.487453   \n",
      "...       ...        ...        ...        ...        ...        ...   \n",
      "2204      USD   8.760000   9.070000   7.680000   7.870000   7.677933   \n",
      "2205      USD   7.860000   8.100000   7.230000   7.630000   7.536838   \n",
      "2206      USD   7.670000   8.055000   6.610000   7.570000   7.477571   \n",
      "2207      USD   7.490000   8.355000   7.150000   7.920000   7.823297   \n",
      "2208      USD   7.930000   8.060000   7.320000   7.830000   7.830000   \n",
      "\n",
      "         Volume  \n",
      "0     147012000  \n",
      "1      67437000  \n",
      "2     112674000  \n",
      "3      74071000  \n",
      "4      65035500  \n",
      "...         ...  \n",
      "2204   19793700  \n",
      "2205   15108300  \n",
      "2206   18138900  \n",
      "2207   18116900  \n",
      "2208   11134800  \n",
      "\n",
      "[2209 rows x 11 columns]\n"
     ]
    }
   ],
   "source": [
    "df = pd.read_csv(\"juegos.csv\")\n",
    "print(df)\n",
    "df.to_csv(\"juegos.csv\")"
   ]
  },
  {
   "cell_type": "code",
   "execution_count": 10,
   "id": "ad4c65eb-d299-4fec-8520-1a531e22cd9f",
   "metadata": {},
   "outputs": [
    {
     "data": {
      "text/plain": [
       "np.float64(56.08233187505499)"
      ]
     },
     "execution_count": 10,
     "metadata": {},
     "output_type": "execute_result"
    }
   ],
   "source": [
    "media = df[\"Open\"].mean()\n",
    "media"
   ]
  },
  {
   "cell_type": "code",
   "execution_count": 14,
   "id": "0932046a-2083-4450-8822-92bcb2316e99",
   "metadata": {},
   "outputs": [
    {
     "data": {
      "text/plain": [
       "np.float64(88.55227736805108)"
      ]
     },
     "execution_count": 14,
     "metadata": {},
     "output_type": "execute_result"
    }
   ],
   "source": [
    "moda = df[\"Open\"].std()\n",
    "moda"
   ]
  },
  {
   "cell_type": "code",
   "execution_count": 11,
   "id": "4a7cb2c2-f0d0-4453-b229-e3c111123a39",
   "metadata": {},
   "outputs": [
    {
     "data": {
      "text/plain": [
       "np.float64(22.36199951171875)"
      ]
     },
     "execution_count": 11,
     "metadata": {},
     "output_type": "execute_result"
    }
   ],
   "source": [
    "mediana = df[\"Open\"].median()\n",
    "mediana"
   ]
  },
  {
   "cell_type": "code",
   "execution_count": 12,
   "id": "a3537625-d3ec-4f49-89fc-be36c373011f",
   "metadata": {},
   "outputs": [
    {
     "data": {
      "text/plain": [
       "np.float64(88.55227736805108)"
      ]
     },
     "execution_count": 12,
     "metadata": {},
     "output_type": "execute_result"
    }
   ],
   "source": [
    "desviacion = df[\"Open\"].std()\n",
    "desviacion"
   ]
  },
  {
   "cell_type": "code",
   "execution_count": 13,
   "id": "00981fa8-a611-4b41-b85e-b7c84e2f3f83",
   "metadata": {},
   "outputs": [
    {
     "data": {
      "text/plain": [
       "np.float64(88.55227736805108)"
      ]
     },
     "execution_count": 13,
     "metadata": {},
     "output_type": "execute_result"
    }
   ],
   "source": [
    "varianza = df[\"Open\"].std()\n",
    "varianza"
   ]
  },
  {
   "cell_type": "code",
   "execution_count": null,
   "id": "95c67740-515e-4f3b-bb5f-3ae8e674b2f8",
   "metadata": {},
   "outputs": [],
   "source": []
  }
 ],
 "metadata": {
  "kernelspec": {
   "display_name": "Python 3 (ipykernel)",
   "language": "python",
   "name": "python3"
  },
  "language_info": {
   "codemirror_mode": {
    "name": "ipython",
    "version": 3
   },
   "file_extension": ".py",
   "mimetype": "text/x-python",
   "name": "python",
   "nbconvert_exporter": "python",
   "pygments_lexer": "ipython3",
   "version": "3.13.1"
  }
 },
 "nbformat": 4,
 "nbformat_minor": 5
}
